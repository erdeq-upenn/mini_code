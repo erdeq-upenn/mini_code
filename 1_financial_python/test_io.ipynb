{
 "cells": [
  {
   "cell_type": "markdown",
   "id": "05455bd8-a78f-46c2-a963-774d019314d2",
   "metadata": {},
   "source": [
    "## I/O in python\n",
    "\n",
    "### working with SQL Database "
   ]
  },
  {
   "cell_type": "code",
   "execution_count": 6,
   "id": "2864816b-00b7-4e01-a32e-d51ec4038449",
   "metadata": {},
   "outputs": [],
   "source": [
    "import sqlite3 as sq3 \n",
    "con = sq3.connect('data/test.db')"
   ]
  },
  {
   "cell_type": "code",
   "execution_count": 8,
   "id": "c84b40bd-4e27-40f4-ae8b-c7af270c5544",
   "metadata": {},
   "outputs": [
    {
     "data": {
      "text/plain": [
       "<sqlite3.Cursor at 0x7ff462ed8b20>"
      ]
     },
     "execution_count": 8,
     "metadata": {},
     "output_type": "execute_result"
    }
   ],
   "source": [
    "query = 'CREATE TABLE numbs (Date date,No1 real, No2 real)'\n",
    "con.execute(query)"
   ]
  },
  {
   "cell_type": "code",
   "execution_count": 9,
   "id": "82a228fe-14c1-4758-bd16-7acccd304986",
   "metadata": {},
   "outputs": [],
   "source": [
    "con.commit()"
   ]
  },
  {
   "cell_type": "code",
   "execution_count": 12,
   "id": "a51faf6b-47f6-4fa0-9ec2-771822bc3b62",
   "metadata": {},
   "outputs": [
    {
     "data": {
      "text/plain": [
       "[('table',\n",
       "  'numbs',\n",
       "  'numbs',\n",
       "  2,\n",
       "  'CREATE TABLE numbs (Date date,No1 real, No2 real)')]"
      ]
     },
     "execution_count": 12,
     "metadata": {},
     "output_type": "execute_result"
    }
   ],
   "source": [
    "q = con.execute\n",
    "q('SELECT * FROM sqlite_master').fetchall()"
   ]
  },
  {
   "cell_type": "code",
   "execution_count": 15,
   "id": "758d6481-8ad9-44cf-ae5e-bb8aeea784d5",
   "metadata": {},
   "outputs": [
    {
     "data": {
      "text/plain": [
       "<sqlite3.Cursor at 0x7ff462af5dc0>"
      ]
     },
     "execution_count": 15,
     "metadata": {},
     "output_type": "execute_result"
    }
   ],
   "source": [
    "import datetime \n",
    "now = datetime.datetime.now()\n",
    "q('INSERT INTO numbs VALUES(?,?,?)',(now,0.12,0.73))"
   ]
  },
  {
   "cell_type": "code",
   "execution_count": 16,
   "id": "4c194791-fbf7-4414-8762-16e6b9385d6c",
   "metadata": {},
   "outputs": [],
   "source": [
    "import numpy as np\n",
    "np.random.seed(100)\n",
    "data = np.random.standard_normal((1000,2)).round(4)\n"
   ]
  },
  {
   "cell_type": "code",
   "execution_count": 19,
   "id": "6953260b-be67-4def-9b55-76743be72fb7",
   "metadata": {},
   "outputs": [
    {
     "name": "stdout",
     "output_type": "stream",
     "text": [
      "CPU times: user 15.7 ms, sys: 4.23 ms, total: 19.9 ms\n",
      "Wall time: 18 ms\n"
     ]
    }
   ],
   "source": [
    "%%time\n",
    "for row in data:\n",
    "    q('INSERT INTO numbs VALUES(?,?,?)',(now,row[0],row[1]))\n",
    "con.commit()"
   ]
  },
  {
   "cell_type": "code",
   "execution_count": 20,
   "id": "f5cc2141-0567-4979-bca8-7c23aa0da546",
   "metadata": {},
   "outputs": [
    {
     "data": {
      "text/plain": [
       "[('2022-09-27 10:28:24.644287', 0.12, 0.73),\n",
       " ('2022-09-27 10:28:24.644287', -1.7498, 0.3427),\n",
       " ('2022-09-27 10:28:24.644287', 1.153, -0.2524),\n",
       " ('2022-09-27 10:28:24.644287', 0.9813, 0.5142),\n",
       " ('2022-09-27 10:28:24.644287', 0.2212, -1.07)]"
      ]
     },
     "execution_count": 20,
     "metadata": {},
     "output_type": "execute_result"
    }
   ],
   "source": [
    "q('SELECT * FROM numbs').fetchmany(5)"
   ]
  },
  {
   "cell_type": "code",
   "execution_count": 21,
   "id": "c361d110-a7b2-4079-9e37-367665a11bf4",
   "metadata": {},
   "outputs": [
    {
     "data": {
      "text/plain": [
       "[('2022-09-27 10:28:24.644287', 1.153, -0.2524),\n",
       " ('2022-09-27 10:28:24.644287', 0.9813, 0.5142),\n",
       " ('2022-09-27 10:28:24.644287', 0.6727, -0.1044),\n",
       " ('2022-09-27 10:28:24.644287', 1.619, 1.5416),\n",
       " ('2022-09-27 10:28:24.644287', 0.731, 1.3616)]"
      ]
     },
     "execution_count": 21,
     "metadata": {},
     "output_type": "execute_result"
    }
   ],
   "source": [
    "q('SELECT * FROM numbs WHERE no1>0.5').fetchmany(5)"
   ]
  },
  {
   "cell_type": "code",
   "execution_count": 22,
   "id": "6aed5e6e-dcdc-496a-b5c0-058dbfd03a23",
   "metadata": {},
   "outputs": [],
   "source": [
    "con.close()"
   ]
  },
  {
   "cell_type": "code",
   "execution_count": null,
   "id": "f12b55d8-01ca-4499-8173-05c042ac7219",
   "metadata": {},
   "outputs": [],
   "source": [
    "ls"
   ]
  }
 ],
 "metadata": {
  "kernelspec": {
   "display_name": "Python 3 (ipykernel)",
   "language": "python",
   "name": "python3"
  },
  "language_info": {
   "codemirror_mode": {
    "name": "ipython",
    "version": 3
   },
   "file_extension": ".py",
   "mimetype": "text/x-python",
   "name": "python",
   "nbconvert_exporter": "python",
   "pygments_lexer": "ipython3",
   "version": "3.9.7"
  }
 },
 "nbformat": 4,
 "nbformat_minor": 5
}
