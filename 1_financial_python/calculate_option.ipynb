{
 "cells": [
  {
   "cell_type": "markdown",
   "metadata": {},
   "source": [
    "# Functions to evaluate option values \n"
   ]
  },
  {
   "cell_type": "code",
   "execution_count": 1,
   "metadata": {},
   "outputs": [],
   "source": [
    "import pandas as pd \n",
    "import datetime as dt "
   ]
  },
  {
   "cell_type": "code",
   "execution_count": 5,
   "metadata": {},
   "outputs": [
    {
     "data": {
      "text/plain": [
       "0.365"
      ]
     },
     "execution_count": 5,
     "metadata": {},
     "output_type": "execute_result"
    }
   ],
   "source": [
    "# 1. calculate option $r_{m}$ to maturity\n",
    "\n",
    "def option_apy(st, t0, t1, p):\n",
    "    # st: underlying price\n",
    "    # p: stike price\n",
    "    # t in format yyyymmdd \n",
    "    t0,t1 = pd.to_datetime(t0), pd.to_datetime(t1)\n",
    "    delta_t = (t1-t0).days\n",
    "    r = p/delta_t/st*365\n",
    "    return r\n",
    "\n",
    "option_apy(st=2000,t0 = '20241111', t1 = '20250219',p=200)"
   ]
  },
  {
   "cell_type": "code",
   "execution_count": 4,
   "metadata": {},
   "outputs": [
    {
     "name": "stdout",
     "output_type": "stream",
     "text": [
      "Option price (p): 5\n",
      "Spot price (st): 100\n",
      "Interest rate to maturity (r_m) = 5 / (365 * 100) * 365 = 0.050000\n",
      "Interest Rate to Maturity: 0.0500\n"
     ]
    }
   ],
   "source": [
    "import pandas as pd\n",
    "\n",
    "class Option:\n",
    "    def __init__(self, st, t0, t1, p):\n",
    "        \"\"\"\n",
    "        Initializes an Option object with the given parameters and calculates \n",
    "        the interest rate to maturity.\n",
    "        \n",
    "        :param st: Current price of the option (spot price)\n",
    "        :param t0: Start date (in format 'yyyymmdd')\n",
    "        :param t1: End date (in format 'yyyymmdd')\n",
    "        :param p: Price of the option at maturity\n",
    "        \"\"\"\n",
    "        self.st = st\n",
    "        self.t0 = t0\n",
    "        self.t1 = t1\n",
    "        self.p = p\n",
    "        \n",
    "        # Automatically calculate the interest rate when the object is created\n",
    "        self.interest_rate = self.cal_interest_rate()\n",
    "\n",
    "    def cal_interest_rate(self):\n",
    "        \"\"\"\n",
    "        Calculate the annualized interest rate to maturity based on the given formula.\n",
    "        \n",
    "        :return: Annualized interest rate to maturity (r_m)\n",
    "        \"\"\"\n",
    "        # Convert the start and end dates to datetime objects\n",
    "        t0, t1 = pd.to_datetime(self.t0), pd.to_datetime(self.t1)\n",
    "        \n",
    "        # Calculate the difference in days between the two dates\n",
    "        delta_t = (t1 - t0).days +1 \n",
    "        \n",
    "        # Calculate the interest rate using the formula\n",
    "        r = self.p / (delta_t * self.st) * 365\n",
    "        \n",
    "         # Print the interest rate calculation\n",
    "        print(f\"Option price (p): {self.p}\")\n",
    "        print(f\"Spot price (st): {self.st}\")\n",
    "        print(f\"Interest rate to maturity (r_m) = {self.p} / ({delta_t} * {self.st}) * 365 = {r:.6f}\")\n",
    "        \n",
    "        return r\n",
    "\n",
    "# Example usage\n",
    "option = Option(st=100, t0=\"20230101\", t1=\"20231231\", p=5)\n",
    "print(f\"Interest Rate to Maturity: {option.interest_rate:.4f}\")\n"
   ]
  },
  {
   "cell_type": "code",
   "execution_count": 5,
   "metadata": {},
   "outputs": [
    {
     "name": "stdout",
     "output_type": "stream",
     "text": [
      "Option price (p): 245\n",
      "Spot price (st): 1991\n",
      "Interest rate to maturity (r_m) = 245 / (61 * 1991) * 365 = 0.736305\n"
     ]
    }
   ],
   "source": [
    "hims_24_c = Option(st=1991, t0=\"20241118\", t1=\"20250117\", p=245)"
   ]
  },
  {
   "cell_type": "code",
   "execution_count": 6,
   "metadata": {},
   "outputs": [
    {
     "name": "stdout",
     "output_type": "stream",
     "text": [
      "Option price (p): 50\n",
      "Spot price (st): 1900\n",
      "Interest rate to maturity (r_m) = 50 / (54 * 1900) * 365 = 0.177875\n"
     ]
    }
   ],
   "source": [
    "hims_21_5_p = Option(st=1900, t0=\"20241125\", t1=\"20250117\", p=50)"
   ]
  },
  {
   "cell_type": "code",
   "execution_count": 11,
   "metadata": {},
   "outputs": [
    {
     "name": "stdout",
     "output_type": "stream",
     "text": [
      "Option price (p): 35\n",
      "Spot price (st): 1900\n",
      "Interest rate to maturity (r_m) = 35 / (32 * 1900) * 365 = 0.210115\n"
     ]
    }
   ],
   "source": [
    "hims_19_p = Option(st=1900, t0=\"20241126\", t1=\"20241227\", p=35)"
   ]
  },
  {
   "cell_type": "code",
   "execution_count": 14,
   "metadata": {},
   "outputs": [
    {
     "name": "stdout",
     "output_type": "stream",
     "text": [
      "Option price (p): 490\n",
      "Spot price (st): 2000\n",
      "Interest rate to maturity (r_m) = 490 / (796 * 2000) * 365 = 0.112343\n"
     ]
    }
   ],
   "source": [
    "hims_20_p = Option(st=2000, t0=\"20241111\", t1=\"20270115\", p=490)"
   ]
  },
  {
   "cell_type": "code",
   "execution_count": 25,
   "metadata": {},
   "outputs": [],
   "source": [
    "now = dt.datetime.now()"
   ]
  },
  {
   "cell_type": "code",
   "execution_count": 27,
   "metadata": {},
   "outputs": [
    {
     "name": "stdout",
     "output_type": "stream",
     "text": [
      "Option price (p): 15\n",
      "Spot price (st): 5300\n",
      "Interest rate to maturity (r_m) = 15 / (9 * 5300) * 365 = 0.114780\n"
     ]
    }
   ],
   "source": [
    "ixy_53_c = Option(st=5300, t0=now, t1=\"20241206\", p=15)"
   ]
  },
  {
   "cell_type": "code",
   "execution_count": null,
   "metadata": {},
   "outputs": [],
   "source": []
  }
 ],
 "metadata": {
  "kernelspec": {
   "display_name": "base",
   "language": "python",
   "name": "python3"
  },
  "language_info": {
   "codemirror_mode": {
    "name": "ipython",
    "version": 3
   },
   "file_extension": ".py",
   "mimetype": "text/x-python",
   "name": "python",
   "nbconvert_exporter": "python",
   "pygments_lexer": "ipython3",
   "version": "3.10.8"
  }
 },
 "nbformat": 4,
 "nbformat_minor": 2
}
